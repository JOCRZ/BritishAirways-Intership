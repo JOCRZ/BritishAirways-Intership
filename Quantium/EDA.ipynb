{
 "cells": [
  {
   "cell_type": "code",
   "execution_count": 174,
   "metadata": {},
   "outputs": [],
   "source": [
    "import pandas as pd\n",
    "import numpy as np\n",
    "import seaborn as sns"
   ]
  },
  {
   "cell_type": "code",
   "execution_count": 175,
   "metadata": {},
   "outputs": [],
   "source": [
    "data1 = pd.read_csv('data/QVI_purchase_behaviour.csv')\n",
    "data2 = pd.read_csv('data/QVI_transaction_data.csv')"
   ]
  },
  {
   "cell_type": "code",
   "execution_count": 176,
   "metadata": {},
   "outputs": [],
   "source": [
    "pdf = data1.copy()\n",
    "pdt = data2.copy()"
   ]
  },
  {
   "cell_type": "code",
   "execution_count": 177,
   "metadata": {},
   "outputs": [],
   "source": [
    "pdt = pdt[pdt['PROD_NAME'].str.contains('Chips', case=False)]"
   ]
  },
  {
   "cell_type": "markdown",
   "metadata": {},
   "source": [
    "### Data Cleaning"
   ]
  },
  {
   "cell_type": "code",
   "execution_count": 178,
   "metadata": {},
   "outputs": [
    {
     "data": {
      "text/plain": [
       "(72637, 3)"
      ]
     },
     "execution_count": 178,
     "metadata": {},
     "output_type": "execute_result"
    }
   ],
   "source": [
    "pdf.shape"
   ]
  },
  {
   "cell_type": "code",
   "execution_count": 179,
   "metadata": {},
   "outputs": [
    {
     "data": {
      "text/plain": [
       "(49770, 8)"
      ]
     },
     "execution_count": 179,
     "metadata": {},
     "output_type": "execute_result"
    }
   ],
   "source": [
    "pdt.shape"
   ]
  },
  {
   "cell_type": "code",
   "execution_count": 180,
   "metadata": {},
   "outputs": [
    {
     "data": {
      "text/plain": [
       "Index(['LYLTY_CARD_NBR', 'LIFESTAGE', 'PREMIUM_CUSTOMER'], dtype='object')"
      ]
     },
     "execution_count": 180,
     "metadata": {},
     "output_type": "execute_result"
    }
   ],
   "source": [
    "pdf.columns"
   ]
  },
  {
   "cell_type": "code",
   "execution_count": 181,
   "metadata": {},
   "outputs": [
    {
     "data": {
      "text/plain": [
       "Index(['DATE', 'STORE_NBR', 'LYLTY_CARD_NBR', 'TXN_ID', 'PROD_NBR',\n",
       "       'PROD_NAME', 'PROD_QTY', 'TOT_SALES'],\n",
       "      dtype='object')"
      ]
     },
     "execution_count": 181,
     "metadata": {},
     "output_type": "execute_result"
    }
   ],
   "source": [
    "pdt.columns"
   ]
  },
  {
   "cell_type": "code",
   "execution_count": 182,
   "metadata": {},
   "outputs": [
    {
     "name": "stdout",
     "output_type": "stream",
     "text": [
      "<class 'pandas.core.frame.DataFrame'>\n",
      "RangeIndex: 72637 entries, 0 to 72636\n",
      "Data columns (total 3 columns):\n",
      " #   Column            Non-Null Count  Dtype \n",
      "---  ------            --------------  ----- \n",
      " 0   LYLTY_CARD_NBR    72637 non-null  int64 \n",
      " 1   LIFESTAGE         72637 non-null  object\n",
      " 2   PREMIUM_CUSTOMER  72637 non-null  object\n",
      "dtypes: int64(1), object(2)\n",
      "memory usage: 1.7+ MB\n"
     ]
    }
   ],
   "source": [
    "pdf.info()"
   ]
  },
  {
   "cell_type": "code",
   "execution_count": 183,
   "metadata": {},
   "outputs": [
    {
     "name": "stdout",
     "output_type": "stream",
     "text": [
      "<class 'pandas.core.frame.DataFrame'>\n",
      "Index: 49770 entries, 2 to 264830\n",
      "Data columns (total 8 columns):\n",
      " #   Column          Non-Null Count  Dtype  \n",
      "---  ------          --------------  -----  \n",
      " 0   DATE            49770 non-null  int64  \n",
      " 1   STORE_NBR       49770 non-null  int64  \n",
      " 2   LYLTY_CARD_NBR  49770 non-null  int64  \n",
      " 3   TXN_ID          49770 non-null  int64  \n",
      " 4   PROD_NBR        49770 non-null  int64  \n",
      " 5   PROD_NAME       49770 non-null  object \n",
      " 6   PROD_QTY        49770 non-null  int64  \n",
      " 7   TOT_SALES       49770 non-null  float64\n",
      "dtypes: float64(1), int64(6), object(1)\n",
      "memory usage: 3.4+ MB\n"
     ]
    }
   ],
   "source": [
    "pdt.info()"
   ]
  },
  {
   "cell_type": "code",
   "execution_count": 184,
   "metadata": {},
   "outputs": [
    {
     "data": {
      "text/plain": [
       "LYLTY_CARD_NBR      0\n",
       "LIFESTAGE           0\n",
       "PREMIUM_CUSTOMER    0\n",
       "dtype: int64"
      ]
     },
     "execution_count": 184,
     "metadata": {},
     "output_type": "execute_result"
    }
   ],
   "source": [
    "pdf.isnull().sum()"
   ]
  },
  {
   "cell_type": "code",
   "execution_count": 185,
   "metadata": {},
   "outputs": [
    {
     "data": {
      "text/plain": [
       "DATE              0\n",
       "STORE_NBR         0\n",
       "LYLTY_CARD_NBR    0\n",
       "TXN_ID            0\n",
       "PROD_NBR          0\n",
       "PROD_NAME         0\n",
       "PROD_QTY          0\n",
       "TOT_SALES         0\n",
       "dtype: int64"
      ]
     },
     "execution_count": 185,
     "metadata": {},
     "output_type": "execute_result"
    }
   ],
   "source": [
    "pdt.isnull().sum()"
   ]
  },
  {
   "cell_type": "code",
   "execution_count": 186,
   "metadata": {},
   "outputs": [
    {
     "data": {
      "text/plain": [
       "array([False])"
      ]
     },
     "execution_count": 186,
     "metadata": {},
     "output_type": "execute_result"
    }
   ],
   "source": [
    "pdf.duplicated().unique()"
   ]
  },
  {
   "cell_type": "code",
   "execution_count": 187,
   "metadata": {},
   "outputs": [
    {
     "data": {
      "text/plain": [
       "array([False])"
      ]
     },
     "execution_count": 187,
     "metadata": {},
     "output_type": "execute_result"
    }
   ],
   "source": [
    "pdt.duplicated().unique()"
   ]
  },
  {
   "cell_type": "code",
   "execution_count": 188,
   "metadata": {},
   "outputs": [
    {
     "data": {
      "text/html": [
       "<div>\n",
       "<style scoped>\n",
       "    .dataframe tbody tr th:only-of-type {\n",
       "        vertical-align: middle;\n",
       "    }\n",
       "\n",
       "    .dataframe tbody tr th {\n",
       "        vertical-align: top;\n",
       "    }\n",
       "\n",
       "    .dataframe thead th {\n",
       "        text-align: right;\n",
       "    }\n",
       "</style>\n",
       "<table border=\"1\" class=\"dataframe\">\n",
       "  <thead>\n",
       "    <tr style=\"text-align: right;\">\n",
       "      <th></th>\n",
       "      <th>DATE</th>\n",
       "      <th>STORE_NBR</th>\n",
       "      <th>LYLTY_CARD_NBR</th>\n",
       "      <th>TXN_ID</th>\n",
       "      <th>PROD_NBR</th>\n",
       "      <th>PROD_NAME</th>\n",
       "      <th>PROD_QTY</th>\n",
       "      <th>TOT_SALES</th>\n",
       "    </tr>\n",
       "  </thead>\n",
       "  <tbody>\n",
       "  </tbody>\n",
       "</table>\n",
       "</div>"
      ],
      "text/plain": [
       "Empty DataFrame\n",
       "Columns: [DATE, STORE_NBR, LYLTY_CARD_NBR, TXN_ID, PROD_NBR, PROD_NAME, PROD_QTY, TOT_SALES]\n",
       "Index: []"
      ]
     },
     "execution_count": 188,
     "metadata": {},
     "output_type": "execute_result"
    }
   ],
   "source": [
    "pdt[pdt.duplicated()]\n"
   ]
  },
  {
   "cell_type": "code",
   "execution_count": 189,
   "metadata": {},
   "outputs": [],
   "source": [
    "pdt = pdt.drop_duplicates()"
   ]
  },
  {
   "cell_type": "code",
   "execution_count": 190,
   "metadata": {},
   "outputs": [
    {
     "data": {
      "text/plain": [
       "LYLTY_CARD_NBR      0\n",
       "LIFESTAGE           0\n",
       "PREMIUM_CUSTOMER    0\n",
       "dtype: int64"
      ]
     },
     "execution_count": 190,
     "metadata": {},
     "output_type": "execute_result"
    }
   ],
   "source": [
    "pdf.isna().sum()"
   ]
  },
  {
   "cell_type": "code",
   "execution_count": 191,
   "metadata": {},
   "outputs": [
    {
     "data": {
      "text/plain": [
       "DATE              0\n",
       "STORE_NBR         0\n",
       "LYLTY_CARD_NBR    0\n",
       "TXN_ID            0\n",
       "PROD_NBR          0\n",
       "PROD_NAME         0\n",
       "PROD_QTY          0\n",
       "TOT_SALES         0\n",
       "dtype: int64"
      ]
     },
     "execution_count": 191,
     "metadata": {},
     "output_type": "execute_result"
    }
   ],
   "source": [
    "pdt.isna().sum()"
   ]
  },
  {
   "cell_type": "code",
   "execution_count": 192,
   "metadata": {},
   "outputs": [],
   "source": [
    "base_date = pd.to_datetime(\"1900-01-01\")\n",
    "pdt['DATE'] = base_date + pd.to_timedelta(pdt['DATE'], unit='D')"
   ]
  },
  {
   "cell_type": "markdown",
   "metadata": {},
   "source": [
    "After Initial Cleaning \n",
    "- There is no Null , duplicates or Nan values.\n",
    "- All datatypes have checked for each columns.\n"
   ]
  },
  {
   "cell_type": "markdown",
   "metadata": {},
   "source": [
    "### Exploritary Data Analysis"
   ]
  },
  {
   "cell_type": "markdown",
   "metadata": {},
   "source": [
    "### Uni - variant Analysis"
   ]
  },
  {
   "cell_type": "code",
   "execution_count": 193,
   "metadata": {},
   "outputs": [
    {
     "name": "stdout",
     "output_type": "stream",
     "text": [
      "<class 'pandas.core.frame.DataFrame'>\n",
      "RangeIndex: 72637 entries, 0 to 72636\n",
      "Data columns (total 3 columns):\n",
      " #   Column            Non-Null Count  Dtype \n",
      "---  ------            --------------  ----- \n",
      " 0   LYLTY_CARD_NBR    72637 non-null  int64 \n",
      " 1   LIFESTAGE         72637 non-null  object\n",
      " 2   PREMIUM_CUSTOMER  72637 non-null  object\n",
      "dtypes: int64(1), object(2)\n",
      "memory usage: 1.7+ MB\n"
     ]
    }
   ],
   "source": [
    "pdf.info()"
   ]
  },
  {
   "cell_type": "code",
   "execution_count": 194,
   "metadata": {},
   "outputs": [
    {
     "data": {
      "text/plain": [
       "array(['YOUNG SINGLES/COUPLES', 'YOUNG FAMILIES', 'OLDER SINGLES/COUPLES',\n",
       "       'MIDAGE SINGLES/COUPLES', 'NEW FAMILIES', 'OLDER FAMILIES',\n",
       "       'RETIREES'], dtype=object)"
      ]
     },
     "execution_count": 194,
     "metadata": {},
     "output_type": "execute_result"
    }
   ],
   "source": [
    "pdf.LIFESTAGE.unique()"
   ]
  },
  {
   "cell_type": "code",
   "execution_count": 195,
   "metadata": {},
   "outputs": [
    {
     "data": {
      "text/plain": [
       "array(['Premium', 'Mainstream', 'Budget'], dtype=object)"
      ]
     },
     "execution_count": 195,
     "metadata": {},
     "output_type": "execute_result"
    }
   ],
   "source": [
    "pdf.PREMIUM_CUSTOMER.unique()"
   ]
  },
  {
   "cell_type": "code",
   "execution_count": 196,
   "metadata": {},
   "outputs": [
    {
     "data": {
      "text/plain": [
       "LYLTY_CARD_NBR      72637\n",
       "LIFESTAGE               7\n",
       "PREMIUM_CUSTOMER        3\n",
       "dtype: int64"
      ]
     },
     "execution_count": 196,
     "metadata": {},
     "output_type": "execute_result"
    }
   ],
   "source": [
    "pdf.nunique()"
   ]
  },
  {
   "cell_type": "code",
   "execution_count": 197,
   "metadata": {},
   "outputs": [
    {
     "data": {
      "text/plain": [
       "DATE                364\n",
       "STORE_NBR           264\n",
       "LYLTY_CARD_NBR    34281\n",
       "TXN_ID            49712\n",
       "PROD_NBR             21\n",
       "PROD_NAME            21\n",
       "PROD_QTY              5\n",
       "TOT_SALES            28\n",
       "dtype: int64"
      ]
     },
     "execution_count": 197,
     "metadata": {},
     "output_type": "execute_result"
    }
   ],
   "source": [
    "pdt.nunique()"
   ]
  },
  {
   "cell_type": "code",
   "execution_count": 198,
   "metadata": {},
   "outputs": [],
   "source": [
    "# Frequency Tabulation"
   ]
  },
  {
   "cell_type": "code",
   "execution_count": 199,
   "metadata": {},
   "outputs": [
    {
     "data": {
      "text/plain": [
       "LIFESTAGE\n",
       "RETIREES                  14805\n",
       "OLDER SINGLES/COUPLES     14609\n",
       "YOUNG SINGLES/COUPLES     14441\n",
       "OLDER FAMILIES             9780\n",
       "YOUNG FAMILIES             9178\n",
       "MIDAGE SINGLES/COUPLES     7275\n",
       "NEW FAMILIES               2549\n",
       "Name: count, dtype: int64"
      ]
     },
     "execution_count": 199,
     "metadata": {},
     "output_type": "execute_result"
    }
   ],
   "source": [
    "\n",
    "pdf['LIFESTAGE'].value_counts()"
   ]
  },
  {
   "cell_type": "code",
   "execution_count": 200,
   "metadata": {},
   "outputs": [
    {
     "data": {
      "text/plain": [
       "PREMIUM_CUSTOMER\n",
       "Mainstream    29245\n",
       "Budget        24470\n",
       "Premium       18922\n",
       "Name: count, dtype: int64"
      ]
     },
     "execution_count": 200,
     "metadata": {},
     "output_type": "execute_result"
    }
   ],
   "source": [
    "pdf['PREMIUM_CUSTOMER'].value_counts()"
   ]
  },
  {
   "cell_type": "code",
   "execution_count": 201,
   "metadata": {},
   "outputs": [
    {
     "name": "stderr",
     "output_type": "stream",
     "text": [
      "/tmp/ipykernel_4879/1661656629.py:1: FutureWarning: Series.__getitem__ treating keys as positions is deprecated. In a future version, integer keys will always be treated as labels (consistent with DataFrame behavior). To access a value by position, use `ser.iloc[pos]`\n",
      "  val1 = (pdf['PREMIUM_CUSTOMER'].value_counts()[0]/pdf['LIFESTAGE'].shape[0])*100\n",
      "/tmp/ipykernel_4879/1661656629.py:2: FutureWarning: Series.__getitem__ treating keys as positions is deprecated. In a future version, integer keys will always be treated as labels (consistent with DataFrame behavior). To access a value by position, use `ser.iloc[pos]`\n",
      "  val2 = (pdf['PREMIUM_CUSTOMER'].value_counts()[1]/pdf['LIFESTAGE'].shape[0])*100\n",
      "/tmp/ipykernel_4879/1661656629.py:3: FutureWarning: Series.__getitem__ treating keys as positions is deprecated. In a future version, integer keys will always be treated as labels (consistent with DataFrame behavior). To access a value by position, use `ser.iloc[pos]`\n",
      "  val3 = (pdf['PREMIUM_CUSTOMER'].value_counts()[2]/pdf['LIFESTAGE'].shape[0])*100\n"
     ]
    }
   ],
   "source": [
    "val1 = (pdf['PREMIUM_CUSTOMER'].value_counts()[0]/pdf['LIFESTAGE'].shape[0])*100\n",
    "val2 = (pdf['PREMIUM_CUSTOMER'].value_counts()[1]/pdf['LIFESTAGE'].shape[0])*100\n",
    "val3 = (pdf['PREMIUM_CUSTOMER'].value_counts()[2]/pdf['LIFESTAGE'].shape[0])*100"
   ]
  },
  {
   "cell_type": "code",
   "execution_count": 202,
   "metadata": {},
   "outputs": [
    {
     "data": {
      "text/html": [
       "<div>\n",
       "<style scoped>\n",
       "    .dataframe tbody tr th:only-of-type {\n",
       "        vertical-align: middle;\n",
       "    }\n",
       "\n",
       "    .dataframe tbody tr th {\n",
       "        vertical-align: top;\n",
       "    }\n",
       "\n",
       "    .dataframe thead th {\n",
       "        text-align: right;\n",
       "    }\n",
       "</style>\n",
       "<table border=\"1\" class=\"dataframe\">\n",
       "  <thead>\n",
       "    <tr style=\"text-align: right;\">\n",
       "      <th></th>\n",
       "      <th>Premium Customer</th>\n",
       "      <th>Percentage</th>\n",
       "    </tr>\n",
       "  </thead>\n",
       "  <tbody>\n",
       "    <tr>\n",
       "      <th>0</th>\n",
       "      <td>Main stream</td>\n",
       "      <td>40.261850</td>\n",
       "    </tr>\n",
       "    <tr>\n",
       "      <th>1</th>\n",
       "      <td>Budget</td>\n",
       "      <td>33.688065</td>\n",
       "    </tr>\n",
       "    <tr>\n",
       "      <th>2</th>\n",
       "      <td>Premium</td>\n",
       "      <td>26.050085</td>\n",
       "    </tr>\n",
       "  </tbody>\n",
       "</table>\n",
       "</div>"
      ],
      "text/plain": [
       "  Premium Customer  Percentage\n",
       "0      Main stream   40.261850\n",
       "1           Budget   33.688065\n",
       "2          Premium   26.050085"
      ]
     },
     "execution_count": 202,
     "metadata": {},
     "output_type": "execute_result"
    }
   ],
   "source": [
    "tb1 = pd.DataFrame({'Premium Customer':['Main stream','Budget','Premium'],\n",
    "                    'Percentage':[val1,val2,val3]})\n",
    "tb1"
   ]
  },
  {
   "cell_type": "code",
   "execution_count": 203,
   "metadata": {},
   "outputs": [
    {
     "name": "stderr",
     "output_type": "stream",
     "text": [
      "/tmp/ipykernel_4879/1176782072.py:1: FutureWarning: Series.__getitem__ treating keys as positions is deprecated. In a future version, integer keys will always be treated as labels (consistent with DataFrame behavior). To access a value by position, use `ser.iloc[pos]`\n",
      "  val4 = (pdf['LIFESTAGE'].value_counts()[0]/len(pdf['PREMIUM_CUSTOMER'])*100)\n",
      "/tmp/ipykernel_4879/1176782072.py:2: FutureWarning: Series.__getitem__ treating keys as positions is deprecated. In a future version, integer keys will always be treated as labels (consistent with DataFrame behavior). To access a value by position, use `ser.iloc[pos]`\n",
      "  val5 = (pdf['LIFESTAGE'].value_counts()[1]/len(pdf['PREMIUM_CUSTOMER'])*100)\n",
      "/tmp/ipykernel_4879/1176782072.py:3: FutureWarning: Series.__getitem__ treating keys as positions is deprecated. In a future version, integer keys will always be treated as labels (consistent with DataFrame behavior). To access a value by position, use `ser.iloc[pos]`\n",
      "  val6 = (pdf['LIFESTAGE'].value_counts()[2]/len(pdf['PREMIUM_CUSTOMER'])*100)\n",
      "/tmp/ipykernel_4879/1176782072.py:4: FutureWarning: Series.__getitem__ treating keys as positions is deprecated. In a future version, integer keys will always be treated as labels (consistent with DataFrame behavior). To access a value by position, use `ser.iloc[pos]`\n",
      "  val7 = (pdf['LIFESTAGE'].value_counts()[3]/len(pdf['PREMIUM_CUSTOMER'])*100)\n",
      "/tmp/ipykernel_4879/1176782072.py:5: FutureWarning: Series.__getitem__ treating keys as positions is deprecated. In a future version, integer keys will always be treated as labels (consistent with DataFrame behavior). To access a value by position, use `ser.iloc[pos]`\n",
      "  val8 = (pdf['LIFESTAGE'].value_counts()[4]/len(pdf['PREMIUM_CUSTOMER'])*100)\n",
      "/tmp/ipykernel_4879/1176782072.py:6: FutureWarning: Series.__getitem__ treating keys as positions is deprecated. In a future version, integer keys will always be treated as labels (consistent with DataFrame behavior). To access a value by position, use `ser.iloc[pos]`\n",
      "  val9 = (pdf['LIFESTAGE'].value_counts()[5]/len(pdf['PREMIUM_CUSTOMER'])*100)\n",
      "/tmp/ipykernel_4879/1176782072.py:7: FutureWarning: Series.__getitem__ treating keys as positions is deprecated. In a future version, integer keys will always be treated as labels (consistent with DataFrame behavior). To access a value by position, use `ser.iloc[pos]`\n",
      "  val10 = (pdf['LIFESTAGE'].value_counts()[5]/len(pdf['PREMIUM_CUSTOMER'])*100)\n"
     ]
    }
   ],
   "source": [
    "val4 = (pdf['LIFESTAGE'].value_counts()[0]/len(pdf['PREMIUM_CUSTOMER'])*100)\n",
    "val5 = (pdf['LIFESTAGE'].value_counts()[1]/len(pdf['PREMIUM_CUSTOMER'])*100)\n",
    "val6 = (pdf['LIFESTAGE'].value_counts()[2]/len(pdf['PREMIUM_CUSTOMER'])*100)\n",
    "val7 = (pdf['LIFESTAGE'].value_counts()[3]/len(pdf['PREMIUM_CUSTOMER'])*100)\n",
    "val8 = (pdf['LIFESTAGE'].value_counts()[4]/len(pdf['PREMIUM_CUSTOMER'])*100)\n",
    "val9 = (pdf['LIFESTAGE'].value_counts()[5]/len(pdf['PREMIUM_CUSTOMER'])*100)\n",
    "val10 = (pdf['LIFESTAGE'].value_counts()[5]/len(pdf['PREMIUM_CUSTOMER'])*100)\n"
   ]
  },
  {
   "cell_type": "code",
   "execution_count": 204,
   "metadata": {},
   "outputs": [
    {
     "data": {
      "text/html": [
       "<div>\n",
       "<style scoped>\n",
       "    .dataframe tbody tr th:only-of-type {\n",
       "        vertical-align: middle;\n",
       "    }\n",
       "\n",
       "    .dataframe tbody tr th {\n",
       "        vertical-align: top;\n",
       "    }\n",
       "\n",
       "    .dataframe thead th {\n",
       "        text-align: right;\n",
       "    }\n",
       "</style>\n",
       "<table border=\"1\" class=\"dataframe\">\n",
       "  <thead>\n",
       "    <tr style=\"text-align: right;\">\n",
       "      <th></th>\n",
       "      <th>Life Stages</th>\n",
       "      <th>Percentage</th>\n",
       "    </tr>\n",
       "  </thead>\n",
       "  <tbody>\n",
       "    <tr>\n",
       "      <th>0</th>\n",
       "      <td>YOUNG SINGLES/COUPLES</td>\n",
       "      <td>20.382174</td>\n",
       "    </tr>\n",
       "    <tr>\n",
       "      <th>1</th>\n",
       "      <td>YOUNG FAMILIES</td>\n",
       "      <td>20.112339</td>\n",
       "    </tr>\n",
       "    <tr>\n",
       "      <th>2</th>\n",
       "      <td>OLDER SINGLES/COUPLES</td>\n",
       "      <td>19.881052</td>\n",
       "    </tr>\n",
       "    <tr>\n",
       "      <th>3</th>\n",
       "      <td>MIDAGE SINGLES/COUPLES</td>\n",
       "      <td>13.464212</td>\n",
       "    </tr>\n",
       "    <tr>\n",
       "      <th>4</th>\n",
       "      <td>NEW FAMILIES</td>\n",
       "      <td>12.635434</td>\n",
       "    </tr>\n",
       "    <tr>\n",
       "      <th>5</th>\n",
       "      <td>OLDER FAMILIES</td>\n",
       "      <td>10.015557</td>\n",
       "    </tr>\n",
       "    <tr>\n",
       "      <th>6</th>\n",
       "      <td>RETIREES</td>\n",
       "      <td>10.015557</td>\n",
       "    </tr>\n",
       "  </tbody>\n",
       "</table>\n",
       "</div>"
      ],
      "text/plain": [
       "              Life Stages  Percentage\n",
       "0   YOUNG SINGLES/COUPLES   20.382174\n",
       "1          YOUNG FAMILIES   20.112339\n",
       "2   OLDER SINGLES/COUPLES   19.881052\n",
       "3  MIDAGE SINGLES/COUPLES   13.464212\n",
       "4            NEW FAMILIES   12.635434\n",
       "5          OLDER FAMILIES   10.015557\n",
       "6                RETIREES   10.015557"
      ]
     },
     "execution_count": 204,
     "metadata": {},
     "output_type": "execute_result"
    }
   ],
   "source": [
    "tb2 = pd.DataFrame({'Life Stages':['YOUNG SINGLES/COUPLES', 'YOUNG FAMILIES', 'OLDER SINGLES/COUPLES',\n",
    "       'MIDAGE SINGLES/COUPLES', 'NEW FAMILIES', 'OLDER FAMILIES',\n",
    "       'RETIREES'],\n",
    "       'Percentage':[val4,val5,val6,val7,val8,val9,val10]})\n",
    "tb2"
   ]
  },
  {
   "cell_type": "code",
   "execution_count": 205,
   "metadata": {},
   "outputs": [
    {
     "data": {
      "text/html": [
       "<div>\n",
       "<style scoped>\n",
       "    .dataframe tbody tr th:only-of-type {\n",
       "        vertical-align: middle;\n",
       "    }\n",
       "\n",
       "    .dataframe tbody tr th {\n",
       "        vertical-align: top;\n",
       "    }\n",
       "\n",
       "    .dataframe thead th {\n",
       "        text-align: right;\n",
       "    }\n",
       "</style>\n",
       "<table border=\"1\" class=\"dataframe\">\n",
       "  <thead>\n",
       "    <tr style=\"text-align: right;\">\n",
       "      <th>PREMIUM_CUSTOMER</th>\n",
       "      <th>Budget</th>\n",
       "      <th>Mainstream</th>\n",
       "      <th>Premium</th>\n",
       "    </tr>\n",
       "    <tr>\n",
       "      <th>LIFESTAGE</th>\n",
       "      <th></th>\n",
       "      <th></th>\n",
       "      <th></th>\n",
       "    </tr>\n",
       "  </thead>\n",
       "  <tbody>\n",
       "    <tr>\n",
       "      <th>MIDAGE SINGLES/COUPLES</th>\n",
       "      <td>1504</td>\n",
       "      <td>3340</td>\n",
       "      <td>2431</td>\n",
       "    </tr>\n",
       "    <tr>\n",
       "      <th>NEW FAMILIES</th>\n",
       "      <td>1112</td>\n",
       "      <td>849</td>\n",
       "      <td>588</td>\n",
       "    </tr>\n",
       "    <tr>\n",
       "      <th>OLDER FAMILIES</th>\n",
       "      <td>4675</td>\n",
       "      <td>2831</td>\n",
       "      <td>2274</td>\n",
       "    </tr>\n",
       "    <tr>\n",
       "      <th>OLDER SINGLES/COUPLES</th>\n",
       "      <td>4929</td>\n",
       "      <td>4930</td>\n",
       "      <td>4750</td>\n",
       "    </tr>\n",
       "    <tr>\n",
       "      <th>RETIREES</th>\n",
       "      <td>4454</td>\n",
       "      <td>6479</td>\n",
       "      <td>3872</td>\n",
       "    </tr>\n",
       "    <tr>\n",
       "      <th>YOUNG FAMILIES</th>\n",
       "      <td>4017</td>\n",
       "      <td>2728</td>\n",
       "      <td>2433</td>\n",
       "    </tr>\n",
       "    <tr>\n",
       "      <th>YOUNG SINGLES/COUPLES</th>\n",
       "      <td>3779</td>\n",
       "      <td>8088</td>\n",
       "      <td>2574</td>\n",
       "    </tr>\n",
       "  </tbody>\n",
       "</table>\n",
       "</div>"
      ],
      "text/plain": [
       "PREMIUM_CUSTOMER        Budget  Mainstream  Premium\n",
       "LIFESTAGE                                          \n",
       "MIDAGE SINGLES/COUPLES    1504        3340     2431\n",
       "NEW FAMILIES              1112         849      588\n",
       "OLDER FAMILIES            4675        2831     2274\n",
       "OLDER SINGLES/COUPLES     4929        4930     4750\n",
       "RETIREES                  4454        6479     3872\n",
       "YOUNG FAMILIES            4017        2728     2433\n",
       "YOUNG SINGLES/COUPLES     3779        8088     2574"
      ]
     },
     "execution_count": 205,
     "metadata": {},
     "output_type": "execute_result"
    }
   ],
   "source": [
    " pd.crosstab(pdf['LIFESTAGE'], pdf['PREMIUM_CUSTOMER'])\n",
    "\n"
   ]
  },
  {
   "cell_type": "code",
   "execution_count": 206,
   "metadata": {},
   "outputs": [
    {
     "data": {
      "text/html": [
       "<div>\n",
       "<style scoped>\n",
       "    .dataframe tbody tr th:only-of-type {\n",
       "        vertical-align: middle;\n",
       "    }\n",
       "\n",
       "    .dataframe tbody tr th {\n",
       "        vertical-align: top;\n",
       "    }\n",
       "\n",
       "    .dataframe thead th {\n",
       "        text-align: right;\n",
       "    }\n",
       "</style>\n",
       "<table border=\"1\" class=\"dataframe\">\n",
       "  <thead>\n",
       "    <tr style=\"text-align: right;\">\n",
       "      <th>LIFESTAGE</th>\n",
       "      <th>MIDAGE SINGLES/COUPLES</th>\n",
       "      <th>NEW FAMILIES</th>\n",
       "      <th>OLDER FAMILIES</th>\n",
       "      <th>OLDER SINGLES/COUPLES</th>\n",
       "      <th>RETIREES</th>\n",
       "      <th>YOUNG FAMILIES</th>\n",
       "      <th>YOUNG SINGLES/COUPLES</th>\n",
       "    </tr>\n",
       "    <tr>\n",
       "      <th>PREMIUM_CUSTOMER</th>\n",
       "      <th></th>\n",
       "      <th></th>\n",
       "      <th></th>\n",
       "      <th></th>\n",
       "      <th></th>\n",
       "      <th></th>\n",
       "      <th></th>\n",
       "    </tr>\n",
       "  </thead>\n",
       "  <tbody>\n",
       "    <tr>\n",
       "      <th>Budget</th>\n",
       "      <td>1504</td>\n",
       "      <td>1112</td>\n",
       "      <td>4675</td>\n",
       "      <td>4929</td>\n",
       "      <td>4454</td>\n",
       "      <td>4017</td>\n",
       "      <td>3779</td>\n",
       "    </tr>\n",
       "    <tr>\n",
       "      <th>Mainstream</th>\n",
       "      <td>3340</td>\n",
       "      <td>849</td>\n",
       "      <td>2831</td>\n",
       "      <td>4930</td>\n",
       "      <td>6479</td>\n",
       "      <td>2728</td>\n",
       "      <td>8088</td>\n",
       "    </tr>\n",
       "    <tr>\n",
       "      <th>Premium</th>\n",
       "      <td>2431</td>\n",
       "      <td>588</td>\n",
       "      <td>2274</td>\n",
       "      <td>4750</td>\n",
       "      <td>3872</td>\n",
       "      <td>2433</td>\n",
       "      <td>2574</td>\n",
       "    </tr>\n",
       "  </tbody>\n",
       "</table>\n",
       "</div>"
      ],
      "text/plain": [
       "LIFESTAGE         MIDAGE SINGLES/COUPLES  NEW FAMILIES  OLDER FAMILIES  \\\n",
       "PREMIUM_CUSTOMER                                                         \n",
       "Budget                              1504          1112            4675   \n",
       "Mainstream                          3340           849            2831   \n",
       "Premium                             2431           588            2274   \n",
       "\n",
       "LIFESTAGE         OLDER SINGLES/COUPLES  RETIREES  YOUNG FAMILIES  \\\n",
       "PREMIUM_CUSTOMER                                                    \n",
       "Budget                             4929      4454            4017   \n",
       "Mainstream                         4930      6479            2728   \n",
       "Premium                            4750      3872            2433   \n",
       "\n",
       "LIFESTAGE         YOUNG SINGLES/COUPLES  \n",
       "PREMIUM_CUSTOMER                         \n",
       "Budget                             3779  \n",
       "Mainstream                         8088  \n",
       "Premium                            2574  "
      ]
     },
     "execution_count": 206,
     "metadata": {},
     "output_type": "execute_result"
    }
   ],
   "source": [
    " pd.crosstab(pdf['PREMIUM_CUSTOMER'], pdf['LIFESTAGE'])"
   ]
  },
  {
   "cell_type": "code",
   "execution_count": 207,
   "metadata": {},
   "outputs": [],
   "source": [
    "\n",
    "category_count = pdf['PREMIUM_CUSTOMER'].value_counts()\n",
    "category_proportion = pdf['PREMIUM_CUSTOMER'].value_counts(normalize=True)\n",
    "category_percentage = pdf['PREMIUM_CUSTOMER'].value_counts(normalize=True) * 100"
   ]
  },
  {
   "cell_type": "code",
   "execution_count": 208,
   "metadata": {},
   "outputs": [
    {
     "name": "stderr",
     "output_type": "stream",
     "text": [
      "/tmp/ipykernel_4879/1876944597.py:2: FutureWarning: Series.__getitem__ treating keys as positions is deprecated. In a future version, integer keys will always be treated as labels (consistent with DataFrame behavior). To access a value by position, use `ser.iloc[pos]`\n",
      "  'Mainstream':[category_count[0],category_proportion[0],category_percentage[0]],\n",
      "/tmp/ipykernel_4879/1876944597.py:3: FutureWarning: Series.__getitem__ treating keys as positions is deprecated. In a future version, integer keys will always be treated as labels (consistent with DataFrame behavior). To access a value by position, use `ser.iloc[pos]`\n",
      "  'Budgent':[category_count[1],category_proportion[1],category_percentage[1]],\n",
      "/tmp/ipykernel_4879/1876944597.py:4: FutureWarning: Series.__getitem__ treating keys as positions is deprecated. In a future version, integer keys will always be treated as labels (consistent with DataFrame behavior). To access a value by position, use `ser.iloc[pos]`\n",
      "  'Premium':[category_count[2],category_proportion[2],category_percentage[2]]})\n"
     ]
    },
    {
     "data": {
      "text/html": [
       "<div>\n",
       "<style scoped>\n",
       "    .dataframe tbody tr th:only-of-type {\n",
       "        vertical-align: middle;\n",
       "    }\n",
       "\n",
       "    .dataframe tbody tr th {\n",
       "        vertical-align: top;\n",
       "    }\n",
       "\n",
       "    .dataframe thead th {\n",
       "        text-align: right;\n",
       "    }\n",
       "</style>\n",
       "<table border=\"1\" class=\"dataframe\">\n",
       "  <thead>\n",
       "    <tr style=\"text-align: right;\">\n",
       "      <th></th>\n",
       "      <th>Premium Customer</th>\n",
       "      <th>Mainstream</th>\n",
       "      <th>Budgent</th>\n",
       "      <th>Premium</th>\n",
       "    </tr>\n",
       "  </thead>\n",
       "  <tbody>\n",
       "    <tr>\n",
       "      <th>0</th>\n",
       "      <td>count</td>\n",
       "      <td>29245.000000</td>\n",
       "      <td>24470.000000</td>\n",
       "      <td>18922.000000</td>\n",
       "    </tr>\n",
       "    <tr>\n",
       "      <th>1</th>\n",
       "      <td>proportion</td>\n",
       "      <td>0.402619</td>\n",
       "      <td>0.336881</td>\n",
       "      <td>0.260501</td>\n",
       "    </tr>\n",
       "    <tr>\n",
       "      <th>2</th>\n",
       "      <td>percentage</td>\n",
       "      <td>40.261850</td>\n",
       "      <td>33.688065</td>\n",
       "      <td>26.050085</td>\n",
       "    </tr>\n",
       "  </tbody>\n",
       "</table>\n",
       "</div>"
      ],
      "text/plain": [
       "  Premium Customer    Mainstream       Budgent       Premium\n",
       "0            count  29245.000000  24470.000000  18922.000000\n",
       "1       proportion      0.402619      0.336881      0.260501\n",
       "2       percentage     40.261850     33.688065     26.050085"
      ]
     },
     "execution_count": 208,
     "metadata": {},
     "output_type": "execute_result"
    }
   ],
   "source": [
    "tab3 = pd.DataFrame({'Premium Customer':['count','proportion','percentage'],\n",
    "                     'Mainstream':[category_count[0],category_proportion[0],category_percentage[0]],\n",
    "                     'Budgent':[category_count[1],category_proportion[1],category_percentage[1]],\n",
    "                     'Premium':[category_count[2],category_proportion[2],category_percentage[2]]})\n",
    "tab3"
   ]
  },
  {
   "cell_type": "code",
   "execution_count": 209,
   "metadata": {},
   "outputs": [
    {
     "data": {
      "text/html": [
       "<div>\n",
       "<style scoped>\n",
       "    .dataframe tbody tr th:only-of-type {\n",
       "        vertical-align: middle;\n",
       "    }\n",
       "\n",
       "    .dataframe tbody tr th {\n",
       "        vertical-align: top;\n",
       "    }\n",
       "\n",
       "    .dataframe thead th {\n",
       "        text-align: right;\n",
       "    }\n",
       "</style>\n",
       "<table border=\"1\" class=\"dataframe\">\n",
       "  <thead>\n",
       "    <tr style=\"text-align: right;\">\n",
       "      <th>PREMIUM_CUSTOMER</th>\n",
       "      <th>Budget</th>\n",
       "      <th>Mainstream</th>\n",
       "      <th>Premium</th>\n",
       "    </tr>\n",
       "    <tr>\n",
       "      <th>LIFESTAGE</th>\n",
       "      <th></th>\n",
       "      <th></th>\n",
       "      <th></th>\n",
       "    </tr>\n",
       "  </thead>\n",
       "  <tbody>\n",
       "    <tr>\n",
       "      <th>MIDAGE SINGLES/COUPLES</th>\n",
       "      <td>1504</td>\n",
       "      <td>3340</td>\n",
       "      <td>2431</td>\n",
       "    </tr>\n",
       "    <tr>\n",
       "      <th>NEW FAMILIES</th>\n",
       "      <td>1112</td>\n",
       "      <td>849</td>\n",
       "      <td>588</td>\n",
       "    </tr>\n",
       "    <tr>\n",
       "      <th>OLDER FAMILIES</th>\n",
       "      <td>4675</td>\n",
       "      <td>2831</td>\n",
       "      <td>2274</td>\n",
       "    </tr>\n",
       "    <tr>\n",
       "      <th>OLDER SINGLES/COUPLES</th>\n",
       "      <td>4929</td>\n",
       "      <td>4930</td>\n",
       "      <td>4750</td>\n",
       "    </tr>\n",
       "    <tr>\n",
       "      <th>RETIREES</th>\n",
       "      <td>4454</td>\n",
       "      <td>6479</td>\n",
       "      <td>3872</td>\n",
       "    </tr>\n",
       "    <tr>\n",
       "      <th>YOUNG FAMILIES</th>\n",
       "      <td>4017</td>\n",
       "      <td>2728</td>\n",
       "      <td>2433</td>\n",
       "    </tr>\n",
       "    <tr>\n",
       "      <th>YOUNG SINGLES/COUPLES</th>\n",
       "      <td>3779</td>\n",
       "      <td>8088</td>\n",
       "      <td>2574</td>\n",
       "    </tr>\n",
       "  </tbody>\n",
       "</table>\n",
       "</div>"
      ],
      "text/plain": [
       "PREMIUM_CUSTOMER        Budget  Mainstream  Premium\n",
       "LIFESTAGE                                          \n",
       "MIDAGE SINGLES/COUPLES    1504        3340     2431\n",
       "NEW FAMILIES              1112         849      588\n",
       "OLDER FAMILIES            4675        2831     2274\n",
       "OLDER SINGLES/COUPLES     4929        4930     4750\n",
       "RETIREES                  4454        6479     3872\n",
       "YOUNG FAMILIES            4017        2728     2433\n",
       "YOUNG SINGLES/COUPLES     3779        8088     2574"
      ]
     },
     "execution_count": 209,
     "metadata": {},
     "output_type": "execute_result"
    }
   ],
   "source": [
    "pdf.groupby(['LIFESTAGE','PREMIUM_CUSTOMER']).size().unstack(fill_value=0)"
   ]
  },
  {
   "cell_type": "code",
   "execution_count": 210,
   "metadata": {},
   "outputs": [
    {
     "data": {
      "text/html": [
       "<div>\n",
       "<style scoped>\n",
       "    .dataframe tbody tr th:only-of-type {\n",
       "        vertical-align: middle;\n",
       "    }\n",
       "\n",
       "    .dataframe tbody tr th {\n",
       "        vertical-align: top;\n",
       "    }\n",
       "\n",
       "    .dataframe thead th {\n",
       "        text-align: right;\n",
       "    }\n",
       "</style>\n",
       "<table border=\"1\" class=\"dataframe\">\n",
       "  <thead>\n",
       "    <tr style=\"text-align: right;\">\n",
       "      <th></th>\n",
       "      <th>a</th>\n",
       "      <th>b</th>\n",
       "      <th>c</th>\n",
       "    </tr>\n",
       "  </thead>\n",
       "  <tbody>\n",
       "    <tr>\n",
       "      <th>0</th>\n",
       "      <td>1</td>\n",
       "      <td>5</td>\n",
       "      <td>6</td>\n",
       "    </tr>\n",
       "    <tr>\n",
       "      <th>1</th>\n",
       "      <td>2</td>\n",
       "      <td>6</td>\n",
       "      <td>8</td>\n",
       "    </tr>\n",
       "    <tr>\n",
       "      <th>2</th>\n",
       "      <td>3</td>\n",
       "      <td>7</td>\n",
       "      <td>10</td>\n",
       "    </tr>\n",
       "  </tbody>\n",
       "</table>\n",
       "</div>"
      ],
      "text/plain": [
       "   a  b   c\n",
       "0  1  5   6\n",
       "1  2  6   8\n",
       "2  3  7  10"
      ]
     },
     "execution_count": 210,
     "metadata": {},
     "output_type": "execute_result"
    }
   ],
   "source": [
    "df = pd.DataFrame()\n",
    "df = df.assign(a=[1,2,3],b=[5,6,7])\n",
    "df.assign(c=df['a']+df['b'])\n"
   ]
  },
  {
   "cell_type": "code",
   "execution_count": 211,
   "metadata": {},
   "outputs": [
    {
     "ename": "KeyError",
     "evalue": "'LYLTY_CARD_NBR'",
     "output_type": "error",
     "traceback": [
      "\u001b[0;31m---------------------------------------------------------------------------\u001b[0m",
      "\u001b[0;31mKeyError\u001b[0m                                  Traceback (most recent call last)",
      "File \u001b[0;32m~/Desktop/BA-Project/env/lib/python3.11/site-packages/pandas/core/indexes/base.py:3790\u001b[0m, in \u001b[0;36mIndex.get_loc\u001b[0;34m(self, key)\u001b[0m\n\u001b[1;32m   3789\u001b[0m \u001b[39mtry\u001b[39;00m:\n\u001b[0;32m-> 3790\u001b[0m     \u001b[39mreturn\u001b[39;00m \u001b[39mself\u001b[39;49m\u001b[39m.\u001b[39;49m_engine\u001b[39m.\u001b[39;49mget_loc(casted_key)\n\u001b[1;32m   3791\u001b[0m \u001b[39mexcept\u001b[39;00m \u001b[39mKeyError\u001b[39;00m \u001b[39mas\u001b[39;00m err:\n",
      "File \u001b[0;32mindex.pyx:152\u001b[0m, in \u001b[0;36mpandas._libs.index.IndexEngine.get_loc\u001b[0;34m()\u001b[0m\n",
      "File \u001b[0;32mindex.pyx:181\u001b[0m, in \u001b[0;36mpandas._libs.index.IndexEngine.get_loc\u001b[0;34m()\u001b[0m\n",
      "File \u001b[0;32mpandas/_libs/hashtable_class_helper.pxi:7080\u001b[0m, in \u001b[0;36mpandas._libs.hashtable.PyObjectHashTable.get_item\u001b[0;34m()\u001b[0m\n",
      "File \u001b[0;32mpandas/_libs/hashtable_class_helper.pxi:7088\u001b[0m, in \u001b[0;36mpandas._libs.hashtable.PyObjectHashTable.get_item\u001b[0;34m()\u001b[0m\n",
      "\u001b[0;31mKeyError\u001b[0m: 'LYLTY_CARD_NBR'",
      "\nThe above exception was the direct cause of the following exception:\n",
      "\u001b[0;31mKeyError\u001b[0m                                  Traceback (most recent call last)",
      "\u001b[1;32m/home/jo/Desktop/BA-Project/Virtual-Intership/Quantium/EDA.ipynb Cell 42\u001b[0m line \u001b[0;36m6\n\u001b[1;32m      <a href='vscode-notebook-cell:/home/jo/Desktop/BA-Project/Virtual-Intership/Quantium/EDA.ipynb#X55sZmlsZQ%3D%3D?line=2'>3</a>\u001b[0m \u001b[39m# Iterate through each column in the DataFrame\u001b[39;00m\n\u001b[1;32m      <a href='vscode-notebook-cell:/home/jo/Desktop/BA-Project/Virtual-Intership/Quantium/EDA.ipynb#X55sZmlsZQ%3D%3D?line=3'>4</a>\u001b[0m \u001b[39mfor\u001b[39;00m column \u001b[39min\u001b[39;00m pdf\u001b[39m.\u001b[39mcolumns:\n\u001b[1;32m      <a href='vscode-notebook-cell:/home/jo/Desktop/BA-Project/Virtual-Intership/Quantium/EDA.ipynb#X55sZmlsZQ%3D%3D?line=4'>5</a>\u001b[0m     column_info \u001b[39m=\u001b[39m {\n\u001b[0;32m----> <a href='vscode-notebook-cell:/home/jo/Desktop/BA-Project/Virtual-Intership/Quantium/EDA.ipynb#X55sZmlsZQ%3D%3D?line=5'>6</a>\u001b[0m         \u001b[39m'\u001b[39m\u001b[39mData Type\u001b[39m\u001b[39m'\u001b[39m: \u001b[39mstr\u001b[39m(df[column]\u001b[39m.\u001b[39mdtype),  \u001b[39m# Get the data type as a string\u001b[39;00m\n\u001b[1;32m      <a href='vscode-notebook-cell:/home/jo/Desktop/BA-Project/Virtual-Intership/Quantium/EDA.ipynb#X55sZmlsZQ%3D%3D?line=6'>7</a>\u001b[0m         \u001b[39m'\u001b[39m\u001b[39mDescription\u001b[39m\u001b[39m'\u001b[39m: \u001b[39m'\u001b[39m\u001b[39m'\u001b[39m,                   \u001b[39m# Add a description (you can fill this in)\u001b[39;00m\n\u001b[1;32m      <a href='vscode-notebook-cell:/home/jo/Desktop/BA-Project/Virtual-Intership/Quantium/EDA.ipynb#X55sZmlsZQ%3D%3D?line=7'>8</a>\u001b[0m         \u001b[39m'\u001b[39m\u001b[39mUnique Values\u001b[39m\u001b[39m'\u001b[39m: df[column]\u001b[39m.\u001b[39mnunique(),  \u001b[39m# Count of unique values\u001b[39;00m\n\u001b[1;32m      <a href='vscode-notebook-cell:/home/jo/Desktop/BA-Project/Virtual-Intership/Quantium/EDA.ipynb#X55sZmlsZQ%3D%3D?line=8'>9</a>\u001b[0m         \u001b[39m'\u001b[39m\u001b[39mMissing Values\u001b[39m\u001b[39m'\u001b[39m: df[column]\u001b[39m.\u001b[39misnull()\u001b[39m.\u001b[39msum(),  \u001b[39m# Count of missing values\u001b[39;00m\n\u001b[1;32m     <a href='vscode-notebook-cell:/home/jo/Desktop/BA-Project/Virtual-Intership/Quantium/EDA.ipynb#X55sZmlsZQ%3D%3D?line=9'>10</a>\u001b[0m         \u001b[39m'\u001b[39m\u001b[39mSample Values\u001b[39m\u001b[39m'\u001b[39m: \u001b[39mlist\u001b[39m(df[column]\u001b[39m.\u001b[39msample(n\u001b[39m=\u001b[39m\u001b[39m5\u001b[39m, random_state\u001b[39m=\u001b[39m\u001b[39m1\u001b[39m))  \u001b[39m# Sample values (adjust as needed)\u001b[39;00m\n\u001b[1;32m     <a href='vscode-notebook-cell:/home/jo/Desktop/BA-Project/Virtual-Intership/Quantium/EDA.ipynb#X55sZmlsZQ%3D%3D?line=10'>11</a>\u001b[0m     }\n\u001b[1;32m     <a href='vscode-notebook-cell:/home/jo/Desktop/BA-Project/Virtual-Intership/Quantium/EDA.ipynb#X55sZmlsZQ%3D%3D?line=12'>13</a>\u001b[0m     \u001b[39m# Add the column information to the data dictionary\u001b[39;00m\n\u001b[1;32m     <a href='vscode-notebook-cell:/home/jo/Desktop/BA-Project/Virtual-Intership/Quantium/EDA.ipynb#X55sZmlsZQ%3D%3D?line=13'>14</a>\u001b[0m     data_dict[column] \u001b[39m=\u001b[39m column_info\n",
      "File \u001b[0;32m~/Desktop/BA-Project/env/lib/python3.11/site-packages/pandas/core/frame.py:3896\u001b[0m, in \u001b[0;36mDataFrame.__getitem__\u001b[0;34m(self, key)\u001b[0m\n\u001b[1;32m   3894\u001b[0m \u001b[39mif\u001b[39;00m \u001b[39mself\u001b[39m\u001b[39m.\u001b[39mcolumns\u001b[39m.\u001b[39mnlevels \u001b[39m>\u001b[39m \u001b[39m1\u001b[39m:\n\u001b[1;32m   3895\u001b[0m     \u001b[39mreturn\u001b[39;00m \u001b[39mself\u001b[39m\u001b[39m.\u001b[39m_getitem_multilevel(key)\n\u001b[0;32m-> 3896\u001b[0m indexer \u001b[39m=\u001b[39m \u001b[39mself\u001b[39;49m\u001b[39m.\u001b[39;49mcolumns\u001b[39m.\u001b[39;49mget_loc(key)\n\u001b[1;32m   3897\u001b[0m \u001b[39mif\u001b[39;00m is_integer(indexer):\n\u001b[1;32m   3898\u001b[0m     indexer \u001b[39m=\u001b[39m [indexer]\n",
      "File \u001b[0;32m~/Desktop/BA-Project/env/lib/python3.11/site-packages/pandas/core/indexes/base.py:3797\u001b[0m, in \u001b[0;36mIndex.get_loc\u001b[0;34m(self, key)\u001b[0m\n\u001b[1;32m   3792\u001b[0m     \u001b[39mif\u001b[39;00m \u001b[39misinstance\u001b[39m(casted_key, \u001b[39mslice\u001b[39m) \u001b[39mor\u001b[39;00m (\n\u001b[1;32m   3793\u001b[0m         \u001b[39misinstance\u001b[39m(casted_key, abc\u001b[39m.\u001b[39mIterable)\n\u001b[1;32m   3794\u001b[0m         \u001b[39mand\u001b[39;00m \u001b[39many\u001b[39m(\u001b[39misinstance\u001b[39m(x, \u001b[39mslice\u001b[39m) \u001b[39mfor\u001b[39;00m x \u001b[39min\u001b[39;00m casted_key)\n\u001b[1;32m   3795\u001b[0m     ):\n\u001b[1;32m   3796\u001b[0m         \u001b[39mraise\u001b[39;00m InvalidIndexError(key)\n\u001b[0;32m-> 3797\u001b[0m     \u001b[39mraise\u001b[39;00m \u001b[39mKeyError\u001b[39;00m(key) \u001b[39mfrom\u001b[39;00m \u001b[39merr\u001b[39;00m\n\u001b[1;32m   3798\u001b[0m \u001b[39mexcept\u001b[39;00m \u001b[39mTypeError\u001b[39;00m:\n\u001b[1;32m   3799\u001b[0m     \u001b[39m# If we have a listlike key, _check_indexing_error will raise\u001b[39;00m\n\u001b[1;32m   3800\u001b[0m     \u001b[39m#  InvalidIndexError. Otherwise we fall through and re-raise\u001b[39;00m\n\u001b[1;32m   3801\u001b[0m     \u001b[39m#  the TypeError.\u001b[39;00m\n\u001b[1;32m   3802\u001b[0m     \u001b[39mself\u001b[39m\u001b[39m.\u001b[39m_check_indexing_error(key)\n",
      "\u001b[0;31mKeyError\u001b[0m: 'LYLTY_CARD_NBR'"
     ]
    }
   ],
   "source": [
    "data_dict = {}\n",
    "\n",
    "# Iterate through each column in the DataFrame\n",
    "for column in pdf.columns:\n",
    "    column_info = {\n",
    "        'Data Type': str(df[column].dtype),  # Get the data type as a string\n",
    "        'Description': '',                   # Add a description (you can fill this in)\n",
    "        'Unique Values': df[column].nunique(),  # Count of unique values\n",
    "        'Missing Values': df[column].isnull().sum(),  # Count of missing values\n",
    "        'Sample Values': list(df[column].sample(n=5, random_state=1))  # Sample values (adjust as needed)\n",
    "    }\n",
    "\n",
    "    # Add the column information to the data dictionary\n",
    "    data_dict[column] = column_info\n",
    "\n",
    "# Display the data dictionary\n",
    "data_dict"
   ]
  },
  {
   "cell_type": "code",
   "execution_count": null,
   "metadata": {},
   "outputs": [
    {
     "name": "stdout",
     "output_type": "stream",
     "text": [
      "int64 <bound method Series.notnull of 0           1000\n",
      "1           1002\n",
      "2           1003\n",
      "3           1004\n",
      "4           1005\n",
      "          ...   \n",
      "72632    2370651\n",
      "72633    2370701\n",
      "72634    2370751\n",
      "72635    2370961\n",
      "72636    2373711\n",
      "Name: LYLTY_CARD_NBR, Length: 72637, dtype: int64>\n",
      "object <bound method Series.notnull of 0         YOUNG SINGLES/COUPLES\n",
      "1         YOUNG SINGLES/COUPLES\n",
      "2                YOUNG FAMILIES\n",
      "3         OLDER SINGLES/COUPLES\n",
      "4        MIDAGE SINGLES/COUPLES\n",
      "                  ...          \n",
      "72632    MIDAGE SINGLES/COUPLES\n",
      "72633            YOUNG FAMILIES\n",
      "72634            YOUNG FAMILIES\n",
      "72635            OLDER FAMILIES\n",
      "72636     YOUNG SINGLES/COUPLES\n",
      "Name: LIFESTAGE, Length: 72637, dtype: object>\n",
      "object <bound method Series.notnull of 0           Premium\n",
      "1        Mainstream\n",
      "2            Budget\n",
      "3        Mainstream\n",
      "4        Mainstream\n",
      "            ...    \n",
      "72632    Mainstream\n",
      "72633    Mainstream\n",
      "72634       Premium\n",
      "72635        Budget\n",
      "72636    Mainstream\n",
      "Name: PREMIUM_CUSTOMER, Length: 72637, dtype: object>\n"
     ]
    }
   ],
   "source": [
    "data_dict = pd.DataFrame()\n",
    "\n",
    "for column in pdf.columns:\n",
    "    dtype = str(pdf[column].dtype)\n",
    "    c = pdf[column].notnull\n",
    "\n",
    "    print(dtype,c)\n",
    "\n",
    "\n"
   ]
  },
  {
   "cell_type": "code",
   "execution_count": 212,
   "metadata": {},
   "outputs": [
    {
     "data": {
      "text/plain": [
       "Index(['DATE', 'STORE_NBR', 'LYLTY_CARD_NBR', 'TXN_ID', 'PROD_NBR',\n",
       "       'PROD_NAME', 'PROD_QTY', 'TOT_SALES'],\n",
       "      dtype='object')"
      ]
     },
     "execution_count": 212,
     "metadata": {},
     "output_type": "execute_result"
    }
   ],
   "source": [
    "pdt.columns"
   ]
  },
  {
   "cell_type": "code",
   "execution_count": 213,
   "metadata": {},
   "outputs": [
    {
     "data": {
      "text/plain": [
       "array([  1,   2,   8,  16,  21,  22,  27,  28,  29,  30,  33,  40,  44,\n",
       "        47,  61,  75,  77,  78,  96, 100, 110])"
      ]
     },
     "execution_count": 213,
     "metadata": {},
     "output_type": "execute_result"
    }
   ],
   "source": [
    "product_n = pdt.PROD_NBR.unique()\n",
    "np.sort(product_n)"
   ]
  },
  {
   "cell_type": "code",
   "execution_count": 214,
   "metadata": {},
   "outputs": [
    {
     "data": {
      "text/plain": [
       "21"
      ]
     },
     "execution_count": 214,
     "metadata": {},
     "output_type": "execute_result"
    }
   ],
   "source": [
    "pdt.PROD_NAME.unique()\n",
    "\n",
    "len(pdt.PROD_NAME.unique())"
   ]
  },
  {
   "cell_type": "code",
   "execution_count": 215,
   "metadata": {},
   "outputs": [
    {
     "data": {
      "text/plain": [
       "array(['Smiths Crinkle Cut  Chips Chicken 170g',\n",
       "       'Smiths Crinkle Chips Salt & Vinegar 330g',\n",
       "       'Thins Chips Light&  Tangy 175g',\n",
       "       'Thins Chips         Originl saltd 175g',\n",
       "       'Thins Chips Seasonedchicken 175g',\n",
       "       'Doritos Corn Chips  Original 170g',\n",
       "       'Cobs Popd Swt/Chlli &Sr/Cream Chips 110g',\n",
       "       'Smiths Crinkle Cut  Chips Original 170g',\n",
       "       'Cobs Popd Sea Salt  Chips 110g',\n",
       "       'Smiths Crinkle Cut  Chips Chs&Onion170g',\n",
       "       'French Fries Potato Chips 175g',\n",
       "       'Doritos Corn Chips  Cheese Supreme 170g',\n",
       "       'WW Original Corn    Chips 200g',\n",
       "       'Thins Potato Chips  Hot & Spicy 175g',\n",
       "       'Cobs Popd Sour Crm  &Chives Chips 110g',\n",
       "       'Doritos Corn Chips  Nacho Cheese 170g',\n",
       "       'WW Original Stacked Chips 160g',\n",
       "       'Thins Chips Salt &  Vinegar 175g',\n",
       "       'Smiths Crinkle Cut  Chips Barbecue 170g',\n",
       "       'WW Supreme Cheese   Corn Chips 200g',\n",
       "       'WW Sour Cream &OnionStacked Chips 160g'], dtype=object)"
      ]
     },
     "execution_count": 215,
     "metadata": {},
     "output_type": "execute_result"
    }
   ],
   "source": [
    "pdt.PROD_NAME.unique()"
   ]
  },
  {
   "cell_type": "code",
   "execution_count": 216,
   "metadata": {},
   "outputs": [],
   "source": [
    "pattern = r'(\\d+g)'\n",
    "\n",
    "pdt['Grams'] = pdt['PROD_NAME'].str.extract(pattern, expand=False)\n"
   ]
  },
  {
   "cell_type": "code",
   "execution_count": 217,
   "metadata": {},
   "outputs": [],
   "source": [
    "def remove_numbers_and_g(s):\n",
    "    return ''.join([c for c in s if not c.isdigit() and c != 'g'])\n",
    "\n",
    "# Apply the function to the 'PROD_NAME' column\n",
    "pdt['PROD_NAME'] = pdt['PROD_NAME'].apply(remove_numbers_and_g)"
   ]
  },
  {
   "cell_type": "code",
   "execution_count": 219,
   "metadata": {},
   "outputs": [
    {
     "data": {
      "text/plain": [
       "array(['170g', '330g', '175g', '110g', '200g', '160g'], dtype=object)"
      ]
     },
     "execution_count": 219,
     "metadata": {},
     "output_type": "execute_result"
    }
   ],
   "source": [
    "pdt.Grams.unique()"
   ]
  },
  {
   "cell_type": "code",
   "execution_count": 220,
   "metadata": {},
   "outputs": [
    {
     "data": {
      "text/html": [
       "<div>\n",
       "<style scoped>\n",
       "    .dataframe tbody tr th:only-of-type {\n",
       "        vertical-align: middle;\n",
       "    }\n",
       "\n",
       "    .dataframe tbody tr th {\n",
       "        vertical-align: top;\n",
       "    }\n",
       "\n",
       "    .dataframe thead th {\n",
       "        text-align: right;\n",
       "    }\n",
       "</style>\n",
       "<table border=\"1\" class=\"dataframe\">\n",
       "  <thead>\n",
       "    <tr style=\"text-align: right;\">\n",
       "      <th></th>\n",
       "      <th>DATE</th>\n",
       "      <th>STORE_NBR</th>\n",
       "      <th>LYLTY_CARD_NBR</th>\n",
       "      <th>TXN_ID</th>\n",
       "      <th>PROD_NBR</th>\n",
       "      <th>PROD_NAME</th>\n",
       "      <th>PROD_QTY</th>\n",
       "      <th>TOT_SALES</th>\n",
       "      <th>Grams</th>\n",
       "    </tr>\n",
       "  </thead>\n",
       "  <tbody>\n",
       "    <tr>\n",
       "      <th>2</th>\n",
       "      <td>2019-05-22</td>\n",
       "      <td>1</td>\n",
       "      <td>1343</td>\n",
       "      <td>383</td>\n",
       "      <td>61</td>\n",
       "      <td>Smiths Crinkle Cut  Chips Chicken</td>\n",
       "      <td>2</td>\n",
       "      <td>2.9</td>\n",
       "      <td>170g</td>\n",
       "    </tr>\n",
       "    <tr>\n",
       "      <th>6</th>\n",
       "      <td>2019-05-18</td>\n",
       "      <td>4</td>\n",
       "      <td>4149</td>\n",
       "      <td>3333</td>\n",
       "      <td>16</td>\n",
       "      <td>Smiths Crinkle Chips Salt &amp; Vinear</td>\n",
       "      <td>1</td>\n",
       "      <td>5.7</td>\n",
       "      <td>330g</td>\n",
       "    </tr>\n",
       "    <tr>\n",
       "      <th>10</th>\n",
       "      <td>2019-05-19</td>\n",
       "      <td>7</td>\n",
       "      <td>7215</td>\n",
       "      <td>7176</td>\n",
       "      <td>16</td>\n",
       "      <td>Smiths Crinkle Chips Salt &amp; Vinear</td>\n",
       "      <td>1</td>\n",
       "      <td>5.7</td>\n",
       "      <td>330g</td>\n",
       "    </tr>\n",
       "    <tr>\n",
       "      <th>14</th>\n",
       "      <td>2019-05-17</td>\n",
       "      <td>19</td>\n",
       "      <td>19272</td>\n",
       "      <td>16686</td>\n",
       "      <td>44</td>\n",
       "      <td>Thins Chips Liht&amp;  Tany</td>\n",
       "      <td>1</td>\n",
       "      <td>3.3</td>\n",
       "      <td>175g</td>\n",
       "    </tr>\n",
       "    <tr>\n",
       "      <th>33</th>\n",
       "      <td>2019-05-20</td>\n",
       "      <td>45</td>\n",
       "      <td>45220</td>\n",
       "      <td>41651</td>\n",
       "      <td>22</td>\n",
       "      <td>Thins Chips         Oriinl saltd</td>\n",
       "      <td>1</td>\n",
       "      <td>3.3</td>\n",
       "      <td>175g</td>\n",
       "    </tr>\n",
       "    <tr>\n",
       "      <th>...</th>\n",
       "      <td>...</td>\n",
       "      <td>...</td>\n",
       "      <td>...</td>\n",
       "      <td>...</td>\n",
       "      <td>...</td>\n",
       "      <td>...</td>\n",
       "      <td>...</td>\n",
       "      <td>...</td>\n",
       "      <td>...</td>\n",
       "    </tr>\n",
       "    <tr>\n",
       "      <th>264809</th>\n",
       "      <td>2018-08-26</td>\n",
       "      <td>271</td>\n",
       "      <td>271051</td>\n",
       "      <td>268506</td>\n",
       "      <td>47</td>\n",
       "      <td>Doritos Corn Chips  Oriinal</td>\n",
       "      <td>2</td>\n",
       "      <td>8.8</td>\n",
       "      <td>170g</td>\n",
       "    </tr>\n",
       "    <tr>\n",
       "      <th>264815</th>\n",
       "      <td>2018-11-06</td>\n",
       "      <td>271</td>\n",
       "      <td>271193</td>\n",
       "      <td>269365</td>\n",
       "      <td>33</td>\n",
       "      <td>Cobs Popd Swt/Chlli &amp;Sr/Cream Chips</td>\n",
       "      <td>2</td>\n",
       "      <td>7.6</td>\n",
       "      <td>110g</td>\n",
       "    </tr>\n",
       "    <tr>\n",
       "      <th>264816</th>\n",
       "      <td>2019-05-31</td>\n",
       "      <td>271</td>\n",
       "      <td>271193</td>\n",
       "      <td>269366</td>\n",
       "      <td>75</td>\n",
       "      <td>Cobs Popd Sea Salt  Chips</td>\n",
       "      <td>2</td>\n",
       "      <td>7.6</td>\n",
       "      <td>110g</td>\n",
       "    </tr>\n",
       "    <tr>\n",
       "      <th>264826</th>\n",
       "      <td>2019-03-27</td>\n",
       "      <td>272</td>\n",
       "      <td>272194</td>\n",
       "      <td>269908</td>\n",
       "      <td>75</td>\n",
       "      <td>Cobs Popd Sea Salt  Chips</td>\n",
       "      <td>2</td>\n",
       "      <td>7.6</td>\n",
       "      <td>110g</td>\n",
       "    </tr>\n",
       "    <tr>\n",
       "      <th>264830</th>\n",
       "      <td>2018-11-14</td>\n",
       "      <td>272</td>\n",
       "      <td>272319</td>\n",
       "      <td>270087</td>\n",
       "      <td>44</td>\n",
       "      <td>Thins Chips Liht&amp;  Tany</td>\n",
       "      <td>2</td>\n",
       "      <td>6.6</td>\n",
       "      <td>175g</td>\n",
       "    </tr>\n",
       "  </tbody>\n",
       "</table>\n",
       "<p>49770 rows × 9 columns</p>\n",
       "</div>"
      ],
      "text/plain": [
       "             DATE  STORE_NBR  LYLTY_CARD_NBR  TXN_ID  PROD_NBR  \\\n",
       "2      2019-05-22          1            1343     383        61   \n",
       "6      2019-05-18          4            4149    3333        16   \n",
       "10     2019-05-19          7            7215    7176        16   \n",
       "14     2019-05-17         19           19272   16686        44   \n",
       "33     2019-05-20         45           45220   41651        22   \n",
       "...           ...        ...             ...     ...       ...   \n",
       "264809 2018-08-26        271          271051  268506        47   \n",
       "264815 2018-11-06        271          271193  269365        33   \n",
       "264816 2019-05-31        271          271193  269366        75   \n",
       "264826 2019-03-27        272          272194  269908        75   \n",
       "264830 2018-11-14        272          272319  270087        44   \n",
       "\n",
       "                                   PROD_NAME  PROD_QTY  TOT_SALES Grams  \n",
       "2         Smiths Crinkle Cut  Chips Chicken          2        2.9  170g  \n",
       "6        Smiths Crinkle Chips Salt & Vinear          1        5.7  330g  \n",
       "10       Smiths Crinkle Chips Salt & Vinear          1        5.7  330g  \n",
       "14                  Thins Chips Liht&  Tany          1        3.3  175g  \n",
       "33         Thins Chips         Oriinl saltd          1        3.3  175g  \n",
       "...                                      ...       ...        ...   ...  \n",
       "264809          Doritos Corn Chips  Oriinal          2        8.8  170g  \n",
       "264815  Cobs Popd Swt/Chlli &Sr/Cream Chips          2        7.6  110g  \n",
       "264816            Cobs Popd Sea Salt  Chips          2        7.6  110g  \n",
       "264826            Cobs Popd Sea Salt  Chips          2        7.6  110g  \n",
       "264830              Thins Chips Liht&  Tany          2        6.6  175g  \n",
       "\n",
       "[49770 rows x 9 columns]"
      ]
     },
     "execution_count": 220,
     "metadata": {},
     "output_type": "execute_result"
    }
   ],
   "source": [
    "pdt"
   ]
  },
  {
   "cell_type": "code",
   "execution_count": null,
   "metadata": {},
   "outputs": [],
   "source": []
  }
 ],
 "metadata": {
  "kernelspec": {
   "display_name": "env",
   "language": "python",
   "name": "python3"
  },
  "language_info": {
   "codemirror_mode": {
    "name": "ipython",
    "version": 3
   },
   "file_extension": ".py",
   "mimetype": "text/x-python",
   "name": "python",
   "nbconvert_exporter": "python",
   "pygments_lexer": "ipython3",
   "version": "3.11.4"
  },
  "orig_nbformat": 4
 },
 "nbformat": 4,
 "nbformat_minor": 2
}
